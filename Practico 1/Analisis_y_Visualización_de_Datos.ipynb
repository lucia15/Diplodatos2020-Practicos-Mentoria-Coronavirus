{
 "cells": [
  {
   "cell_type": "markdown",
   "metadata": {},
   "source": [
    "# DiploDatos 2020 - Coronavirus en Argentina"
   ]
  },
  {
   "cell_type": "markdown",
   "metadata": {},
   "source": [
    "## Práctico Análisis y Visualización de Datos\n",
    "\n",
    "En este notebook se explicarán los métodos para la carga inicial de los datos que vamos a usar en el proyecto, se describirá la estructura general de los mismos, y veremos algunos métodos básicos de análisis.\n",
    "\n",
    "Antes de comenzar a trabajar con CSVs, siempre es recomendable descargar el dataset en nuestra computadora y observarlo directamente con alguna herramienta de procesamiento de texto, para tener una visión rápida del tipo de datos con el cual trabajeremos, pero también para asegurarnos que estamos utilizando un archivo con el formato correcto.\n",
    "\n",
    "El dataset se encuetra en:\n",
    "\n",
    "https://github.com/lucia15/Datos-Covid19-Argentina"
   ]
  },
  {
   "cell_type": "code",
   "execution_count": 1,
   "metadata": {},
   "outputs": [
    {
     "data": {
      "text/html": [
       "<style>.container { width:90% !important; }</style>"
      ],
      "text/plain": [
       "<IPython.core.display.HTML object>"
      ]
     },
     "metadata": {},
     "output_type": "display_data"
    }
   ],
   "source": [
    "### Aumentar el ancho del notebook\n",
    "from IPython.core.display import display, HTML\n",
    "display(HTML(\"<style>.container { width:90% !important; }</style>\"))"
   ]
  },
  {
   "cell_type": "code",
   "execution_count": 2,
   "metadata": {},
   "outputs": [],
   "source": [
    "# Importamos las librerías necesarias\n",
    "import os\n",
    "import sys\n",
    "import datetime\n",
    "import pandas as pd\n",
    "import numpy as np\n",
    "import matplotlib.pyplot as plt\n",
    "import seaborn as sns\n",
    "\n",
    "pd.set_option('display.max_columns', 30)\n",
    "pd.set_option('display.max_rows', 100)"
   ]
  },
  {
   "cell_type": "code",
   "execution_count": 3,
   "metadata": {},
   "outputs": [],
   "source": [
    "## Seteamos semilla random para reproducibilidad\n",
    "np.random.seed(0)"
   ]
  },
  {
   "cell_type": "markdown",
   "metadata": {},
   "source": [
    "### Inicialización y carga de datos"
   ]
  },
  {
   "cell_type": "markdown",
   "metadata": {},
   "source": [
    "Puesto que el dataset se actualiza diariamente, es conveniente cargarlo directamente desde Github, para trabajar siempre la última versión.\n",
    "\n",
    "En el mismo tenemos tres subconjuntos de datos."
   ]
  },
  {
   "cell_type": "code",
   "execution_count": 4,
   "metadata": {},
   "outputs": [],
   "source": [
    "url = 'https://raw.githubusercontent.com/lucia15/Datos-Covid19-Argentina/master'"
   ]
  },
  {
   "cell_type": "code",
   "execution_count": 5,
   "metadata": {},
   "outputs": [],
   "source": [
    "file1 = os.path.join(url, 'Argentina-covid19.csv')\n",
    "\n",
    "data1 = pd.read_csv(file1, error_bad_lines=False)"
   ]
  },
  {
   "cell_type": "code",
   "execution_count": 6,
   "metadata": {},
   "outputs": [],
   "source": [
    "file2 = os.path.join(url, 'Argentina-covid19-por-provincia.csv')\n",
    "\n",
    "data2 = pd.read_csv(file2, error_bad_lines=False)"
   ]
  },
  {
   "cell_type": "code",
   "execution_count": 7,
   "metadata": {},
   "outputs": [],
   "source": [
    "file3 = os.path.join(url, 'Argentina-covid19-fallecidos.csv')\n",
    "\n",
    "data3 = pd.read_csv(file3, error_bad_lines=False)"
   ]
  },
  {
   "cell_type": "markdown",
   "metadata": {},
   "source": [
    "### Análisis exploratorio"
   ]
  },
  {
   "cell_type": "code",
   "execution_count": 8,
   "metadata": {},
   "outputs": [
    {
     "name": "stdout",
     "output_type": "stream",
     "text": [
      "Cantidad de registros:  96\n",
      "Cantidad de columnas:  29\n"
     ]
    }
   ],
   "source": [
    "# Obtenemos la cantidad de filas y columnas\n",
    "print(\"Cantidad de registros: \", data1.shape[0])\n",
    "print(\"Cantidad de columnas: \", data1.shape[1])"
   ]
  },
  {
   "cell_type": "code",
   "execution_count": 9,
   "metadata": {},
   "outputs": [
    {
     "data": {
      "text/plain": [
       "fecha                       object\n",
       "dia_cuarentena             float64\n",
       "casos_nuevos                 int64\n",
       "casos_total                  int64\n",
       "%mujer                      object\n",
       "%varon                      object\n",
       "mujer_total                float64\n",
       "varon_total                float64\n",
       "franja_etaria               object\n",
       "edad_prom                  float64\n",
       "importados_total             int64\n",
       "importados_nuevos            int64\n",
       "local_total                  int64\n",
       "local_nuevos                 int64\n",
       "comunitario_total            int64\n",
       "comunitario_nuevos         float64\n",
       "en_investigacion_total       int64\n",
       "en_investigacion_nuevos      int64\n",
       "muertes_total                int64\n",
       "muertes_nuevos               int64\n",
       "alta_total                 float64\n",
       "alta_nuevos                float64\n",
       "alta_definitiva            float64\n",
       "descartados_total          float64\n",
       "descartados_nuevos         float64\n",
       "tests_realizados_total     float64\n",
       "tests_realizados_nuevos    float64\n",
       "test_por_millon_hab         object\n",
       "observaciones               object\n",
       "dtype: object"
      ]
     },
     "execution_count": 9,
     "metadata": {},
     "output_type": "execute_result"
    }
   ],
   "source": [
    "# Listamos las columnas y sus tipos de datos\n",
    "data1.dtypes"
   ]
  },
  {
   "cell_type": "markdown",
   "metadata": {},
   "source": [
    "Todas estas variables están explicadas en el GitHub donde se encuentra el dataset (revisar)."
   ]
  },
  {
   "cell_type": "code",
   "execution_count": 10,
   "metadata": {},
   "outputs": [],
   "source": [
    "# Cambiamos el tipo de la columna 'fecha' de object a datetime\n",
    "data1['fecha'] = pd.to_datetime(data1['fecha'], format='%Y-%m-%d')"
   ]
  },
  {
   "cell_type": "code",
   "execution_count": 11,
   "metadata": {},
   "outputs": [
    {
     "data": {
      "text/html": [
       "<div>\n",
       "<style scoped>\n",
       "    .dataframe tbody tr th:only-of-type {\n",
       "        vertical-align: middle;\n",
       "    }\n",
       "\n",
       "    .dataframe tbody tr th {\n",
       "        vertical-align: top;\n",
       "    }\n",
       "\n",
       "    .dataframe thead th {\n",
       "        text-align: right;\n",
       "    }\n",
       "</style>\n",
       "<table border=\"1\" class=\"dataframe\">\n",
       "  <thead>\n",
       "    <tr style=\"text-align: right;\">\n",
       "      <th></th>\n",
       "      <th>26</th>\n",
       "      <th>84</th>\n",
       "    </tr>\n",
       "  </thead>\n",
       "  <tbody>\n",
       "    <tr>\n",
       "      <th>fecha</th>\n",
       "      <td>2020-03-31 00:00:00</td>\n",
       "      <td>2020-05-28 00:00:00</td>\n",
       "    </tr>\n",
       "    <tr>\n",
       "      <th>dia_cuarentena</th>\n",
       "      <td>11</td>\n",
       "      <td>69</td>\n",
       "    </tr>\n",
       "    <tr>\n",
       "      <th>casos_nuevos</th>\n",
       "      <td>88</td>\n",
       "      <td>769</td>\n",
       "    </tr>\n",
       "    <tr>\n",
       "      <th>casos_total</th>\n",
       "      <td>1054</td>\n",
       "      <td>14702</td>\n",
       "    </tr>\n",
       "    <tr>\n",
       "      <th>%mujer</th>\n",
       "      <td>42,5</td>\n",
       "      <td>49,1</td>\n",
       "    </tr>\n",
       "    <tr>\n",
       "      <th>%varon</th>\n",
       "      <td>57,5</td>\n",
       "      <td>50,9</td>\n",
       "    </tr>\n",
       "    <tr>\n",
       "      <th>mujer_total</th>\n",
       "      <td>448</td>\n",
       "      <td>7219</td>\n",
       "    </tr>\n",
       "    <tr>\n",
       "      <th>varon_total</th>\n",
       "      <td>606</td>\n",
       "      <td>7483</td>\n",
       "    </tr>\n",
       "    <tr>\n",
       "      <th>franja_etaria</th>\n",
       "      <td>20-59</td>\n",
       "      <td>20-59</td>\n",
       "    </tr>\n",
       "    <tr>\n",
       "      <th>edad_prom</th>\n",
       "      <td>45</td>\n",
       "      <td>37</td>\n",
       "    </tr>\n",
       "    <tr>\n",
       "      <th>importados_total</th>\n",
       "      <td>529</td>\n",
       "      <td>967</td>\n",
       "    </tr>\n",
       "    <tr>\n",
       "      <th>importados_nuevos</th>\n",
       "      <td>40</td>\n",
       "      <td>6</td>\n",
       "    </tr>\n",
       "    <tr>\n",
       "      <th>local_total</th>\n",
       "      <td>295</td>\n",
       "      <td>6450</td>\n",
       "    </tr>\n",
       "    <tr>\n",
       "      <th>local_nuevos</th>\n",
       "      <td>47</td>\n",
       "      <td>359</td>\n",
       "    </tr>\n",
       "    <tr>\n",
       "      <th>comunitario_total</th>\n",
       "      <td>10</td>\n",
       "      <td>5051</td>\n",
       "    </tr>\n",
       "    <tr>\n",
       "      <th>comunitario_nuevos</th>\n",
       "      <td>NaN</td>\n",
       "      <td>357</td>\n",
       "    </tr>\n",
       "    <tr>\n",
       "      <th>en_investigacion_total</th>\n",
       "      <td>220</td>\n",
       "      <td>2234</td>\n",
       "    </tr>\n",
       "    <tr>\n",
       "      <th>en_investigacion_nuevos</th>\n",
       "      <td>1</td>\n",
       "      <td>47</td>\n",
       "    </tr>\n",
       "    <tr>\n",
       "      <th>muertes_total</th>\n",
       "      <td>27</td>\n",
       "      <td>508</td>\n",
       "    </tr>\n",
       "    <tr>\n",
       "      <th>muertes_nuevos</th>\n",
       "      <td>3</td>\n",
       "      <td>8</td>\n",
       "    </tr>\n",
       "    <tr>\n",
       "      <th>alta_total</th>\n",
       "      <td>248</td>\n",
       "      <td>4788</td>\n",
       "    </tr>\n",
       "    <tr>\n",
       "      <th>alta_nuevos</th>\n",
       "      <td>8</td>\n",
       "      <td>171</td>\n",
       "    </tr>\n",
       "    <tr>\n",
       "      <th>alta_definitiva</th>\n",
       "      <td>30</td>\n",
       "      <td>NaN</td>\n",
       "    </tr>\n",
       "    <tr>\n",
       "      <th>descartados_total</th>\n",
       "      <td>4597</td>\n",
       "      <td>110796</td>\n",
       "    </tr>\n",
       "    <tr>\n",
       "      <th>descartados_nuevos</th>\n",
       "      <td>720</td>\n",
       "      <td>3698</td>\n",
       "    </tr>\n",
       "    <tr>\n",
       "      <th>tests_realizados_total</th>\n",
       "      <td>NaN</td>\n",
       "      <td>150486</td>\n",
       "    </tr>\n",
       "    <tr>\n",
       "      <th>tests_realizados_nuevos</th>\n",
       "      <td>NaN</td>\n",
       "      <td>5405</td>\n",
       "    </tr>\n",
       "    <tr>\n",
       "      <th>test_por_millon_hab</th>\n",
       "      <td>NaN</td>\n",
       "      <td>3316,4</td>\n",
       "    </tr>\n",
       "    <tr>\n",
       "      <th>observaciones</th>\n",
       "      <td>NaN</td>\n",
       "      <td>NaN</td>\n",
       "    </tr>\n",
       "  </tbody>\n",
       "</table>\n",
       "</div>"
      ],
      "text/plain": [
       "                                          26                   84\n",
       "fecha                    2020-03-31 00:00:00  2020-05-28 00:00:00\n",
       "dia_cuarentena                            11                   69\n",
       "casos_nuevos                              88                  769\n",
       "casos_total                             1054                14702\n",
       "%mujer                                  42,5                 49,1\n",
       "%varon                                  57,5                 50,9\n",
       "mujer_total                              448                 7219\n",
       "varon_total                              606                 7483\n",
       "franja_etaria                          20-59                20-59\n",
       "edad_prom                                 45                   37\n",
       "importados_total                         529                  967\n",
       "importados_nuevos                         40                    6\n",
       "local_total                              295                 6450\n",
       "local_nuevos                              47                  359\n",
       "comunitario_total                         10                 5051\n",
       "comunitario_nuevos                       NaN                  357\n",
       "en_investigacion_total                   220                 2234\n",
       "en_investigacion_nuevos                    1                   47\n",
       "muertes_total                             27                  508\n",
       "muertes_nuevos                             3                    8\n",
       "alta_total                               248                 4788\n",
       "alta_nuevos                                8                  171\n",
       "alta_definitiva                           30                  NaN\n",
       "descartados_total                       4597               110796\n",
       "descartados_nuevos                       720                 3698\n",
       "tests_realizados_total                   NaN               150486\n",
       "tests_realizados_nuevos                  NaN                 5405\n",
       "test_por_millon_hab                      NaN               3316,4\n",
       "observaciones                            NaN                  NaN"
      ]
     },
     "execution_count": 11,
     "metadata": {},
     "output_type": "execute_result"
    }
   ],
   "source": [
    "# Analizamos 2 muestras de filas, usamos transpose() para visualizar los datos con mayor comodidad\n",
    "data1.sample(2).transpose()"
   ]
  },
  {
   "cell_type": "markdown",
   "metadata": {},
   "source": [
    "¿En qué día se dio hasta ahora el record de contagios? ¿Y de muertes?"
   ]
  },
  {
   "cell_type": "code",
   "execution_count": 12,
   "metadata": {},
   "outputs": [],
   "source": [
    "# TO DO\n",
    "# Hacer una exploración similar de los otros dos conjuntos de datos"
   ]
  },
  {
   "cell_type": "markdown",
   "metadata": {},
   "source": [
    "#### Tareas a realizar:\n",
    "\n",
    "*   Análisis estadístico de variables\n",
    "\n",
    "> Seleccionar un conjunto de al menos **cuatro** variables que les resulten de interés y:\n",
    "1.   Usar distintos tipos de gráficos para describir sus distribuciones\n",
    "2.   Analizar Outliers (si los hubiera)\n",
    "3.   Calcular estadísticos clásicos (media, mediana, moda, desviación estandar)\n",
    "\n",
    "* Evolución de variables en el tiempo\n",
    "\n",
    "> Seleccionar al menos **tres** variables y graficar como fueron cambiando desde el primer día hasta hoy.\n",
    "\n",
    "*   Análisis de probabilidades condicionales e independencia entre dos variables.\n",
    "\n",
    "> Con al menos **un** par de variables realizar un análisis de este tipo.\n",
    "\n",
    ">  Algunas ideas guía:\n",
    "1.   ¿Cuál es la probabilidad de que un infectado sea mujer (varón)?\n",
    "2.   ¿Cuál es la probabilidad de que un infectado sea de Córdoba (u otra provincia)?\n",
    "3.   Probabilidad de que un fallecido sea mujer (varón)\n",
    "4.   Probabilidad de que un fallecido sea mujer (varón) dado que está en la franja etaria 60-80 (u alguna otra).\n",
    "5.   Probabilidad de que un fallecido en la franja etaria 60-80 sea mujer (varón).\n",
    "6.   Probabilidad de que un fallecido sea de CABA dado que es mujer. Y viceversa, que sea mujer dado que es de CABA.\n",
    "7.   Probabilidad de que un fallecido en la franja etaria 30-60 sea de Chaco. (Quizás encontremos alguna correlación interesante entre edad y provincia).\n",
    "8.   ¿El género de un fallecido es independiente de la franja etaria?\n",
    "9.   ¿El género de un fallecido es independiente de la provincia?\n",
    "10.  ¿La franja etaria de un fallecido es independiente de la provincia?\n",
    "\n",
    "\n",
    "Pueden agregar más análisis que consideren relevantes, estos tres puntos son el mínimo requerido.\n",
    "\n",
    "#### Entregas:\n",
    "\n",
    "* Un **breve informe** en el cual desarrollen cada uno de los puntos anteriores. En el mismo deben incluir solo los gráficos y resultados obtenidos y las conclusiones que de ellos se desprendan. No agregar código al informe. \n",
    "\n",
    "* Una **notebook** que refleje el trabajo realizado (aquí se verá el código). Puede ser esta misma notebook intervenida por ustedes, u otra nueva que inicien, como les resulte más cómodo trabajar."
   ]
  },
  {
   "cell_type": "markdown",
   "metadata": {},
   "source": [
    "### Algunos Ejemplos:\n",
    "\n",
    "A continuación presento una serie de ejemplos que los ayudaran a realizar las tareas propuestas.\n",
    "\n",
    "Pueden retomar estos y completarlos o proponer otros y por supuesto reutilizar el código qué necesiten.\n",
    "\n",
    "Los **TO DO** que agregué no son obligatorios, son solo sugerencias por si deciden retomar los análisis que aquí propongo. Pero ustedes pueden analizar las variables que deseen en cuanto cumplan las tres tareas propuestas anteriormente. \n",
    "\n",
    "##### Ejemplo 1\n",
    "Distribución por género de los fallecidos"
   ]
  },
  {
   "cell_type": "code",
   "execution_count": 13,
   "metadata": {},
   "outputs": [
    {
     "data": {
      "text/plain": [
       "hombre    398\n",
       "mujer     295\n",
       "Name: genero, dtype: int64"
      ]
     },
     "execution_count": 13,
     "metadata": {},
     "output_type": "execute_result"
    }
   ],
   "source": [
    "data3[\"genero\"].value_counts()"
   ]
  },
  {
   "cell_type": "code",
   "execution_count": 14,
   "metadata": {},
   "outputs": [],
   "source": [
    "def plot_hist(variable, title, xticks, data, filename=None):\n",
    "    ax = data[variable].value_counts().plot(kind='barh', figsize=(10,6), color='coral', fontsize=13);\n",
    "    ax.set_alpha(0.8)\n",
    "    ax.set_title(title, fontsize=18)\n",
    "    ax.set_xlabel('', fontsize=18);\n",
    "    ax.set_xticks(xticks)\n",
    "\n",
    "    # create a list to collect the plt.patches data\n",
    "    totals = []\n",
    "\n",
    "    # find the values and append to list\n",
    "    for i in ax.patches:\n",
    "        totals.append(i.get_width())\n",
    "\n",
    "    # set individual bar lables using above list\n",
    "    total = sum(totals)\n",
    "\n",
    "    # set individual bar lables using above list\n",
    "    for i in ax.patches:\n",
    "        # get_width pulls left or right; get_y pushes up or down\n",
    "        ax.text(i.get_width()+.3, i.get_y()+.38, \\\n",
    "                str(round((i.get_width()/total)*100, 2))+'%', fontsize=15, color='dimgrey')\n",
    "\n",
    "    # invert for largest on top \n",
    "    ax.invert_yaxis()\n",
    "    \n",
    "    if filename is not None:\n",
    "        plt.savefig(filename)"
   ]
  },
  {
   "cell_type": "code",
   "execution_count": 15,
   "metadata": {},
   "outputs": [
    {
     "name": "stdout",
     "output_type": "stream",
     "text": [
      "2020-06-09\n"
     ]
    }
   ],
   "source": [
    "## Obtenemos la fecha del día de hoy:\n",
    "today = datetime.date.today()\n",
    "print(today)"
   ]
  },
  {
   "cell_type": "code",
   "execution_count": 16,
   "metadata": {},
   "outputs": [
    {
     "data": {
      "image/png": "[encoded data removed]",
      "text/plain": [
       "<Figure size 720x432 with 1 Axes>"
      ]
     },
     "metadata": {
      "needs_background": "light"
     },
     "output_type": "display_data"
    }
   ],
   "source": [
    "plot_hist(variable='genero', \n",
    "          title='Fallecidos hasta el '+ str(today),\n",
    "          xticks=[0, 50, 100, 150, 200, 250, 300, 350, 400, 450], \n",
    "          data=data3)"
   ]
  },
  {
   "cell_type": "markdown",
   "metadata": {},
   "source": [
    "#### TO DO\n",
    "\n",
    "Reutilizando el código anterior ver la distribución de fallecidos por provincias"
   ]
  },
  {
   "cell_type": "markdown",
   "metadata": {},
   "source": [
    "##### Ejemplo 2\n",
    "Distribución etaria de los fallecidos"
   ]
  },
  {
   "cell_type": "code",
   "execution_count": 17,
   "metadata": {},
   "outputs": [],
   "source": [
    "def plot_edad(data, title, filename=None):\n",
    "    \n",
    "    edades = data['edad'].dropna()\n",
    "    \n",
    "    ## Calculo estadisticos descriptivos\n",
    "    edades_sort = edades.sort_values().astype('int')\n",
    "    moda = edades.mode().values[0]\n",
    "    media = edades_sort.mean()\n",
    "    mediana = edades_sort.median()\n",
    "    std = edades_sort.std()\n",
    "\n",
    "    # Grafico histograma por edades\n",
    "    fig, axes = plt.subplots(figsize=(10,6))\n",
    "    ax = axes\n",
    "    edades.plot.hist(bins=16, rwidth=0.9,color='#607c8e', ax=ax)\n",
    "    ax.set_title(title, fontsize=18)\n",
    "    ax.set_ylabel('Número de muertes')\n",
    "    ax.set_xlabel('Edad (años)')\n",
    "    ax.axvline(media, linestyle='--', color='k', label=r'$\\mathrm{media: }$' + r'$ {{{:.0f}}}\\pm {{{:.0f}}}$'.format(media, std))\n",
    "    ax.axvline(mediana, linestyle='-.', color='k', label=r'$\\mathrm{mediana: }$' + r'$ {{{:.0f}}}$'.format(mediana))\n",
    "    ax.axvline(moda, linestyle=':', color='k', label=r'$\\mathrm{moda: }$' + r'$ {{{:.0f}}}$'.format(moda))\n",
    "    #text = 'Media: {:.1f}\\nMediana: {:.1f}\\nModa: {:.1f}\\nStd: {:.1f}'.format(media, mediana, moda, std)\n",
    "    #ax.text(0.7, 0.35, text, transform=ax.transAxes, fontsize=28)\n",
    "    ax.legend(loc='upper left')\n",
    "    #ax.legend(loc='best')\n",
    "    \n",
    "    if filename is not None:\n",
    "        plt.savefig(filename)"
   ]
  },
  {
   "cell_type": "code",
   "execution_count": 18,
   "metadata": {},
   "outputs": [
    {
     "data": {
      "image/png": "[encoded data removed]",
      "text/plain": [
       "<Figure size 720x432 with 1 Axes>"
      ]
     },
     "metadata": {
      "needs_background": "light"
     },
     "output_type": "display_data"
    }
   ],
   "source": [
    "plot_edad(data3, title='Distribución etaria fallecidos hasta el ' + str(today))"
   ]
  },
  {
   "cell_type": "markdown",
   "metadata": {},
   "source": [
    "¿Ven algún outlier?"
   ]
  },
  {
   "cell_type": "markdown",
   "metadata": {},
   "source": [
    "##### Ejemplo 3\n",
    "Evolución temporal del número de casos diarios"
   ]
  },
  {
   "cell_type": "code",
   "execution_count": 19,
   "metadata": {},
   "outputs": [],
   "source": [
    "fechas = (data1['fecha'].dt.day).astype(str) +'/'+ (data1['fecha'].dt.month).astype(str)\n",
    "\n",
    "casos_nuevos = data1['casos_nuevos']"
   ]
  },
  {
   "cell_type": "code",
   "execution_count": 20,
   "metadata": {},
   "outputs": [],
   "source": [
    "def time_plot(x, y, title, ylabel, y2=None, label1='', label2='', filename=None):\n",
    "\n",
    "    fig, ax = plt.subplots(figsize=(10, 5))\n",
    "\n",
    "    if y2 is not None:\n",
    "        ax.plot(x, y, '-o', label=label1)\n",
    "        ax.plot(x, y2, '-s', label=label2)\n",
    "    else:\n",
    "        ax.plot(x, y, '-o')\n",
    "        \n",
    "    ax.set_title(title, fontsize=20)\n",
    "    ax.set_xlabel('Día', fontsize=15)\n",
    "    ax.set_ylabel(ylabel, fontsize=15)\n",
    "\n",
    "    ax.set_xticks(x[::4])\n",
    "    ax.set_xticklabels(x[::4])\n",
    "\n",
    "    plt.setp(ax.xaxis.get_majorticklabels(), rotation=45)\n",
    "    plt.legend(loc='best')\n",
    "    plt.grid()\n",
    "\n",
    "    plt.tight_layout()\n",
    "    \n",
    "    if filename is not None: \n",
    "        plt.savefig(filename)\n",
    "    \n",
    "    plt.show()"
   ]
  },
  {
   "cell_type": "code",
   "execution_count": 21,
   "metadata": {},
   "outputs": [
    {
     "name": "stderr",
     "output_type": "stream",
     "text": [
      "No handles with labels found to put in legend.\n"
     ]
    },
    {
     "data": {
      "image/png": "[encoded data removed]",
      "text/plain": [
       "<Figure size 720x360 with 1 Axes>"
      ]
     },
     "metadata": {
      "needs_background": "light"
     },
     "output_type": "display_data"
    }
   ],
   "source": [
    "time_plot(fechas, casos_nuevos, title='', ylabel='Casos Nuevos')"
   ]
  },
  {
   "cell_type": "markdown",
   "metadata": {},
   "source": [
    "#### TO DO\n",
    "\n",
    "Reproducir el mismo gráfico utilizando otras variables. Por ejemplo:\n",
    "\n",
    "* Casos acumulados\n",
    "* Altas del día \n",
    "* Altas acumuladas\n",
    "* Altas totales\n",
    "* Testeos realizados\n",
    "* Casos descartados\n",
    "* etc...\n",
    "\n",
    "O hacerlo para alguna provincia en particular (utilizando data2)"
   ]
  },
  {
   "cell_type": "markdown",
   "metadata": {},
   "source": [
    "También se pueden hacer gráficos de evolución temporal utilizando barras\n",
    "\n",
    "##### Ejemplo 4\n",
    "Evolución temporal del total de casos"
   ]
  },
  {
   "cell_type": "code",
   "execution_count": 22,
   "metadata": {},
   "outputs": [],
   "source": [
    "casos_total = data1['casos_total']"
   ]
  },
  {
   "cell_type": "code",
   "execution_count": 23,
   "metadata": {},
   "outputs": [
    {
     "name": "stderr",
     "output_type": "stream",
     "text": [
      "No handles with labels found to put in legend.\n"
     ]
    },
    {
     "data": {
      "image/png": "[encoded data removed]",
      "text/plain": [
       "<Figure size 720x360 with 1 Axes>"
      ]
     },
     "metadata": {
      "needs_background": "light"
     },
     "output_type": "display_data"
    }
   ],
   "source": [
    "fig, ax = plt.subplots(figsize=(10, 5))\n",
    "\n",
    "x = fechas # Para hacer hasta el día anterior usar [:-1]\n",
    "\n",
    "ax.bar(x, casos_total, color='coral')\n",
    "        \n",
    "ax.set_xlabel('Día', fontsize=15)\n",
    "ax.set_ylabel('Total Infectados', fontsize=15)\n",
    "\n",
    "ax.set_xticks(x[::3])\n",
    "ax.set_xticklabels(x[::3])\n",
    "\n",
    "plt.setp(ax.xaxis.get_majorticklabels(), rotation=45)\n",
    "plt.legend(loc='best')\n",
    "plt.grid()\n",
    "\n",
    "plt.tight_layout()   \n",
    "    \n",
    "plt.show()"
   ]
  },
  {
   "cell_type": "markdown",
   "metadata": {},
   "source": [
    "#### TO DO\n",
    "\n",
    "Modificar el código anterior para que en el gráfico se vean en cada barra con distintos colores la proporción de: \n",
    "\n",
    "* Opción 1: Recuperados, Fallecidos y los que continúan activos\n",
    "* Opción 2: Casos importados, locales, comunitarios, los que están en investigación\n",
    "* Opción 3: Mujeres y Varones\n",
    "* Opción 4: Provincias. Pueden asignar distintos colores a las 4 o 5 provincias más afectadas y nuclear el resto en un solo color (para esta opción tendrían que usar data2)\n",
    "\n",
    "Para lograr esto, solo hay que encimar adecuadamente barras replicando la tercer línea de código.\n",
    "\n",
    "Y por su puesto, también se puede imitar este tipo de gráfico para ver la evolución de otras variables en el tiempo."
   ]
  },
  {
   "cell_type": "markdown",
   "metadata": {},
   "source": [
    "##### Ejemplo 5 \n",
    "Análisis por provincias"
   ]
  },
  {
   "cell_type": "code",
   "execution_count": 24,
   "metadata": {},
   "outputs": [],
   "source": [
    "# Cambiamos el tipo de la columna 'fecha' de object a datetime\n",
    "data2['fecha'] = pd.to_datetime(data2['fecha'], format='%Y-%m-%d')"
   ]
  },
  {
   "cell_type": "code",
   "execution_count": 25,
   "metadata": {},
   "outputs": [],
   "source": [
    "# Nos quedamos con un data frame por provincia\n",
    "bsas = data2[data2['provincia']=='Buenos Aires'].reset_index().drop('index', 1)\n",
    "caba = data2[data2['provincia']=='CABA'].reset_index().drop('index', 1)\n",
    "chaco = data2[data2['provincia']=='Chaco'].reset_index().drop('index', 1)\n",
    "chubut = data2[data2['provincia']=='Chubut'].reset_index().drop('index', 1)\n",
    "cba = data2[data2['provincia']=='Córdoba'].reset_index().drop('index', 1)\n",
    "\n",
    "# TO DO\n",
    "# Completar para todas las provincias"
   ]
  },
  {
   "cell_type": "code",
   "execution_count": 26,
   "metadata": {},
   "outputs": [],
   "source": [
    "bsas_total = bsas['casos_total']\n",
    "caba_total = caba['casos_total']\n",
    "chaco_total = chaco['casos_total']\n",
    "chubut_total = chubut['casos_total']\n",
    "cba_total = cba['casos_total']\n",
    "\n",
    "# TO DO\n",
    "# Completar para todas las provincias"
   ]
  },
  {
   "cell_type": "code",
   "execution_count": 27,
   "metadata": {},
   "outputs": [],
   "source": [
    "n0 = len(bsas_total) # Cantidad de días registrados en Buenos Aires\n",
    "n1 = len(caba_total)\n",
    "n2 = len(chaco_total)\n",
    "n3 = len(chubut_total)\n",
    "n4 = len(cba_total)\n",
    "\n",
    "# TO DO\n",
    "# Completar para todas las provincias"
   ]
  },
  {
   "cell_type": "code",
   "execution_count": 28,
   "metadata": {
    "scrolled": true
   },
   "outputs": [
    {
     "data": {
      "image/png": "[encoded data removed]",
      "text/plain": [
       "<Figure size 720x360 with 1 Axes>"
      ]
     },
     "metadata": {
      "needs_background": "light"
     },
     "output_type": "display_data"
    }
   ],
   "source": [
    "fechas = (caba['fecha'].dt.day).astype(str) +'/'+ (caba['fecha'].dt.month).astype(str)\n",
    "n = len(fechas)\n",
    "\n",
    "fig, ax = plt.subplots(figsize=(10, 5))\n",
    "\n",
    "d = n - 9 # cantidad de días a graficar\n",
    "\n",
    "x = fechas[-d:]\n",
    "ax.plot(x, bsas_total[-d:], '-o', label='Buenos Aires')\n",
    "ax.plot(x, caba_total[-d:], '-o', label='CABA')\n",
    "ax.plot(x, cba_total[-d:], '-o', label='Córdoba')\n",
    "ax.plot(x, chaco_total[-d:], '-o', label='Chaco')\n",
    "        \n",
    "#ax.set_title('Evolución Temporal de la cantidad de infectados', fontsize=20)\n",
    "ax.set_xlabel('Día', fontsize=15)\n",
    "ax.set_ylabel('Total Infectados', fontsize=15)\n",
    "\n",
    "ax.set_xticks(x[::4])\n",
    "ax.set_xticklabels(x[::4])\n",
    "\n",
    "plt.setp(ax.xaxis.get_majorticklabels(), rotation=45)\n",
    "plt.legend(loc='best')\n",
    "plt.grid()\n",
    "\n",
    "plt.tight_layout()\n",
    "    \n",
    "plt.show()"
   ]
  },
  {
   "cell_type": "markdown",
   "metadata": {},
   "source": [
    "##### Más ejemplos de gráficos que obtuve con estos datos"
   ]
  },
  {
   "cell_type": "markdown",
   "metadata": {},
   "source": [
    "<img src=\"Graficos/Pie_3.png\">\n",
    "\n",
    "<img src=\"Graficos/Total-por-provincia_3.png\">\n",
    "\n",
    "<img src=\"Graficos/fallecidos_por_provincia_3.png\">\n",
    "\n",
    "<img src=\"Graficos/Tiempo-total-infectados-provincias_0.png\">\n",
    "\n",
    "<img src=\"Graficos/Tiempo-total-recuperados-muertes_3.png\">\n",
    "\n",
    "<img src=\"Graficos/Tiempo-importado-local-invest-comun_3.png\">"
   ]
  },
  {
   "cell_type": "markdown",
   "metadata": {},
   "source": [
    "Si quieren los códigos me los piden."
   ]
  }
 ],
 "metadata": {
  "kernelspec": {
   "display_name": "Python 3",
   "language": "python",
   "name": "python3"
  },
  "language_info": {
   "codemirror_mode": {
    "name": "ipython",
    "version": 3
   },
   "file_extension": ".py",
   "mimetype": "text/x-python",
   "name": "python",
   "nbconvert_exporter": "python",
   "pygments_lexer": "ipython3",
   "version": "3.7.4"
  }
 },
 "nbformat": 4,
 "nbformat_minor": 2
}
